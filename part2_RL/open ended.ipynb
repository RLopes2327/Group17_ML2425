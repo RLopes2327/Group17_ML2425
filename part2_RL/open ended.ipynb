{
 "cells": [
  {
   "cell_type": "code",
   "execution_count": 1,
   "id": "c39acf95-4b23-4709-bd21-597737e04bc4",
   "metadata": {},
   "outputs": [],
   "source": [
    "# need to install the package below\n",
    "#pip install ipywidgets voila\n",
    "import numpy as np\n",
    "import matplotlib.pyplot as plt\n",
    "\n",
    "import ipywidgets as widgets\n",
    "from IPython.display import display\n",
    "from IPython.display import clear_output"
   ]
  },
  {
   "cell_type": "code",
   "execution_count": 2,
   "id": "88b689fb-6167-4ebf-a339-77964042dcd2",
   "metadata": {},
   "outputs": [],
   "source": [
    "%store -r best_model\n",
    "%store -r submission_df\n",
    "%store -r X_test"
   ]
  },
  {
   "cell_type": "code",
   "execution_count": 3,
   "id": "80f38b68-fb21-425d-8482-a5a93076403a",
   "metadata": {},
   "outputs": [],
   "source": [
    "# Set Claim Indentifier as index of X_test\n",
    "X_test = X_test.set_index(submission_df['Claim Identifier'])\n",
    "\n",
    "# Define it as input \n",
    "claim_identifier_input = widgets.IntText(description='Claim Identifier:', layout=widgets.Layout(width='60%'))\n",
    "\n",
    "# Output for displaying results\n",
    "output = widgets.Output()\n",
    "\n",
    "# CLAIM_TYPE_MAPPING dictionary (maps model output to readable claim type labels)\n",
    "CLAIM_TYPE_MAPPING = {\n",
    "    0: '1. CANCELLED',\n",
    "    1: '2. NON-COMP',\n",
    "    2: '3. MED ONLY',\n",
    "    3: '4. TEMPORARY',\n",
    "    4: '5. PPD SCH LOSS',\n",
    "    5: '6. PPD NSL',\n",
    "    6: '7. PTD',\n",
    "    7: '8. DEATH'\n",
    "}"
   ]
  },
  {
   "cell_type": "code",
   "execution_count": 4,
   "id": "89be1fcd-596c-42a5-85f3-ef358f01b7d1",
   "metadata": {},
   "outputs": [],
   "source": [
    "# Function to validate the Claim Identifier and make the prediction\n",
    "def validate_and_predict(change):\n",
    "    claim_identifier = claim_identifier_input.value\n",
    "    with output:\n",
    "        output.clear_output()  # Clears previous outputs\n",
    "        if claim_identifier not in X_test.index:\n",
    "            print(\"Not a valid Claim ID\")  # Handles invalid claims\n",
    "        else:\n",
    "            # Extract the features for the given claim identifier\n",
    "            customer_features = X_test.loc[[claim_identifier]]\n",
    "            \n",
    "            # Make prediction using the model\n",
    "            prediction = best_model.predict(customer_features)\n",
    "            \n",
    "            # Map the prediction to the corresponding claim type\n",
    "            predicted_class = prediction[0]\n",
    "            claim_type = CLAIM_TYPE_MAPPING.get(predicted_class, \"Unknown Class\")\n",
    "            \n",
    "            # Display the prediction result\n",
    "            print(f\"Prediction for Claim ID {claim_identifier}: {claim_type}\")\n",
    "            \n",
    "            # Show the prediction probabilities as a bar chart\n",
    "            display_prediction_probabilities(claim_identifier)"
   ]
  },
  {
   "cell_type": "code",
   "execution_count": 5,
   "id": "b8550247-f237-4890-b423-6f2b90c1fce3",
   "metadata": {},
   "outputs": [],
   "source": [
    "# Function to display prediction probabilities as a bar chart\n",
    "def display_prediction_probabilities(claim_identifier):\n",
    "    if claim_identifier in X_test.index:\n",
    "        # Extract features for the claim\n",
    "        customer_features = X_test.loc[[claim_identifier]]\n",
    "        \n",
    "        # Gets our model predicted probabilities\n",
    "        probabilities = best_model.predict_proba(customer_features)[0]\n",
    "        classes = best_model.classes_\n",
    "        \n",
    "        # Map classes to right labels\n",
    "        class_labels = [CLAIM_TYPE_MAPPING.get(cls, f\"Class {cls}\") for cls in classes]\n",
    "        \n",
    "        # Plot probabilities\n",
    "        plt.figure(figsize=(8, 5))\n",
    "        plt.bar(class_labels, probabilities, color='skyblue')\n",
    "        plt.title(f\"Prediction Probabilities for Claim ID {claim_identifier}\")\n",
    "        plt.xlabel(\"Claim Type\")\n",
    "        plt.ylabel(\"Probability\")\n",
    "        plt.xticks(rotation=45, ha='right')\n",
    "        plt.tight_layout()\n",
    "        plt.show()\n",
    "    else:\n",
    "        print(\"Not a valid Claim ID\")"
   ]
  },
  {
   "cell_type": "code",
   "execution_count": 9,
   "id": "20a4b9a3-1a6a-4c53-86e9-61729b83c572",
   "metadata": {},
   "outputs": [
    {
     "data": {
      "application/vnd.jupyter.widget-view+json": {
       "model_id": "fc96e4e4dbd3462290bc10297dfc5c69",
       "version_major": 2,
       "version_minor": 0
      },
      "text/plain": [
       "IntText(value=6166047, description='Claim Identifier:', layout=Layout(width='60%'))"
      ]
     },
     "metadata": {},
     "output_type": "display_data"
    },
    {
     "data": {
      "application/vnd.jupyter.widget-view+json": {
       "model_id": "4cf586a75f56441fbd84ed0488cb1388",
       "version_major": 2,
       "version_minor": 0
      },
      "text/plain": [
       "Output(outputs=({'name': 'stdout', 'text': 'Prediction for Claim ID 6166047: 2. NON-COMP\\n', 'output_type': 's…"
      ]
     },
     "metadata": {},
     "output_type": "display_data"
    }
   ],
   "source": [
    "# Try 6166047 for example\n",
    "\n",
    "# Attach event listener to the input widget\n",
    "claim_identifier_input.observe(validate_and_predict, names='value')\n",
    "\n",
    "# Display the claim identifier input and output area\n",
    "display(claim_identifier_input)\n",
    "display(output)"
   ]
  },
  {
   "cell_type": "code",
   "execution_count": 7,
   "id": "cfbce280-5eca-49f2-81c5-373da6752d1a",
   "metadata": {},
   "outputs": [],
   "source": [
    "feature_sliders = {}\n",
    "for column in X_test.columns:\n",
    "    # As we scaled the data using standard scaler\n",
    "    # we use range -3 and 3 as it contains most of the data\n",
    "    slider = widgets.FloatSlider(\n",
    "        value=0.0,  \n",
    "        min=-3.0,   \n",
    "        max=3.0,   \n",
    "        step=0.01,  \n",
    "        description=column\n",
    "    )\n",
    "    feature_sliders[column] = slider\n"
   ]
  },
  {
   "cell_type": "code",
   "execution_count": 8,
   "id": "83b6e812-91c0-4fd8-9c76-1a45b0dbe77f",
   "metadata": {},
   "outputs": [
    {
     "data": {
      "application/vnd.jupyter.widget-view+json": {
       "model_id": "5325d524030d40d6bb3dc6fbb85e4706",
       "version_major": 2,
       "version_minor": 0
      },
      "text/plain": [
       "VBox(children=(FloatSlider(value=0.0, description='Age at Injury', max=3.0, min=-3.0, step=0.01), FloatSlider(…"
      ]
     },
     "metadata": {},
     "output_type": "display_data"
    },
    {
     "data": {
      "application/vnd.jupyter.widget-view+json": {
       "model_id": "4cf586a75f56441fbd84ed0488cb1388",
       "version_major": 2,
       "version_minor": 0
      },
      "text/plain": [
       "Output()"
      ]
     },
     "metadata": {},
     "output_type": "display_data"
    }
   ],
   "source": [
    "def simulate_prediction(change):\n",
    "    # Collect all slider values\n",
    "    feature_values = np.array([slider.value for slider in feature_sliders.values()]).reshape(1, -1)\n",
    "    \n",
    "    # Get the prediction from the model\n",
    "    prediction = best_model.predict(feature_values)\n",
    "    claim_type = CLAIM_TYPE_MAPPING.get(prediction[0], \"Unknown Class\")\n",
    "    \n",
    "    # Display the prediction\n",
    "    with output:\n",
    "        output.clear_output()\n",
    "        print(f\"Prediction: {claim_type}\")\n",
    "\n",
    "# Output area for displaying results\n",
    "output = widgets.Output()\n",
    "\n",
    "# Link sliders to the simulate prediction function\n",
    "for slider in feature_sliders.values():\n",
    "    slider.observe(simulate_prediction, names=\"value\")\n",
    "\n",
    "# Display sliders and output area\n",
    "display(widgets.VBox(list(feature_sliders.values())))\n",
    "display(output)"
   ]
  },
  {
   "cell_type": "code",
   "execution_count": null,
   "id": "838861f3-acde-4bde-9d2f-5309984cce15",
   "metadata": {},
   "outputs": [],
   "source": []
  }
 ],
 "metadata": {
  "kernelspec": {
   "display_name": "Python 3 (ipykernel)",
   "language": "python",
   "name": "python3"
  },
  "language_info": {
   "codemirror_mode": {
    "name": "ipython",
    "version": 3
   },
   "file_extension": ".py",
   "mimetype": "text/x-python",
   "name": "python",
   "nbconvert_exporter": "python",
   "pygments_lexer": "ipython3",
   "version": "3.11.9"
  }
 },
 "nbformat": 4,
 "nbformat_minor": 5
}
