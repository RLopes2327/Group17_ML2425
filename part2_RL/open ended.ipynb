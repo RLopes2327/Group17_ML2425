{
 "cells": [
  {
   "cell_type": "code",
   "execution_count": 1,
   "id": "c39acf95-4b23-4709-bd21-597737e04bc4",
   "metadata": {},
   "outputs": [],
   "source": [
    "#pip install ipywidgets voila\n",
    "import numpy as np\n",
    "import matplotlib.pyplot as plt\n",
    "import pickle\n",
    "\n",
    "import ipywidgets as widgets\n",
    "from IPython.display import display\n",
    "from IPython.display import clear_output"
   ]
  },
  {
   "cell_type": "code",
   "execution_count": 2,
   "id": "88b689fb-6167-4ebf-a339-77964042dcd2",
   "metadata": {},
   "outputs": [],
   "source": [
    "# Load objects with pickle\n",
    "with open('best_model.pkl', 'rb') as f:\n",
    "    best_model = pickle.load(f)\n",
    "\n",
    "with open('submission_df.pkl', 'rb') as f:\n",
    "    submission_df = pickle.load(f)\n",
    "\n",
    "with open('X_test.pkl', 'rb') as f:\n",
    "    X_test = pickle.load(f)"
   ]
  },
  {
   "cell_type": "code",
   "execution_count": 3,
   "id": "80f38b68-fb21-425d-8482-a5a93076403a",
   "metadata": {},
   "outputs": [],
   "source": [
    "# Ensure that the claim identifier is correctly set as the index of X_test\n",
    "X_test = X_test.set_index(submission_df['Claim Identifier'])\n",
    "\n",
    "# Input widget for customer ID (Claim Identifier)\n",
    "claim_identifier_input = widgets.IntText(description='Claim Identifier:', layout=widgets.Layout(width='60%'))\n",
    "\n",
    "# Output widget for displaying results\n",
    "output = widgets.Output()\n",
    "\n",
    "# CLAIM_TYPE_MAPPING dictionary (maps model output to readable claim type labels)\n",
    "CLAIM_TYPE_MAPPING = {\n",
    "    0: '1. CANCELLED',\n",
    "    1: '2. NON-COMP',\n",
    "    2: '3. MED ONLY',\n",
    "    3: '4. TEMPORARY',\n",
    "    4: '5. PPD SCH LOSS',\n",
    "    5: '6. PPD NSL',\n",
    "    6: '7. PTD',\n",
    "    7: '8. DEATH'\n",
    "}"
   ]
  },
  {
   "cell_type": "code",
   "execution_count": null,
   "id": "06ccbc32",
   "metadata": {},
   "outputs": [],
   "source": [
    "# Function to display prediction probabilities as a bar chart\n",
    "def display_prediction_probabilities(claim_identifier):\n",
    "    if claim_identifier in X_test.index:\n",
    "        # Extract features for the claim\n",
    "        customer_features = X_test.loc[[claim_identifier]]\n",
    "        \n",
    "        # Get prediction probabilities\n",
    "        probabilities = best_model.predict_proba(customer_features)[0]\n",
    "        classes = best_model.classes_\n",
    "        \n",
    "        # Map classes to human-readable labels\n",
    "        class_labels = [CLAIM_TYPE_MAPPING.get(cls, f\"Class {cls}\") for cls in classes]\n",
    "        \n",
    "        # Plot probabilities\n",
    "        plt.figure(figsize=(8, 5))\n",
    "        plt.bar(class_labels, probabilities, color='skyblue')\n",
    "        plt.title(f\"Prediction Probabilities for Claim ID {claim_identifier}\")\n",
    "        plt.xlabel(\"Claim Type\")\n",
    "        plt.ylabel(\"Probability\")\n",
    "        plt.xticks(rotation=45, ha='right')\n",
    "        plt.tight_layout()\n",
    "        plt.show()\n",
    "    else:\n",
    "        print(\"Not a valid Claim ID\")"
   ]
  },
  {
   "cell_type": "code",
   "execution_count": 4,
   "id": "89be1fcd-596c-42a5-85f3-ef358f01b7d1",
   "metadata": {},
   "outputs": [],
   "source": [
    "# Function to validate the Claim ID and make the prediction\n",
    "def validate_and_predict(change):\n",
    "    claim_identifier = claim_identifier_input.value\n",
    "    with output:\n",
    "        output.clear_output()  # Clear previous outputs\n",
    "        if claim_identifier not in X_test.index:\n",
    "            print(\"Not a valid Claim ID\")  # Handle invalid claims\n",
    "        else:\n",
    "            # Extract the features for the given claim identifier\n",
    "            customer_features = X_test.loc[[claim_identifier]]\n",
    "            \n",
    "            # Make prediction using the model\n",
    "            prediction = best_model.predict(customer_features)\n",
    "            \n",
    "            # Map the prediction to the corresponding claim type\n",
    "            predicted_class = prediction[0]\n",
    "            claim_type = CLAIM_TYPE_MAPPING.get(predicted_class, \"Unknown Class\")\n",
    "            \n",
    "            # Display the prediction result\n",
    "            print(f\"Prediction for Claim ID {claim_identifier}: {claim_type}\")\n",
    "            \n",
    "            # Show the prediction probabilities as a bar chart\n",
    "            display_prediction_probabilities(claim_identifier)"
   ]
  },
  {
   "cell_type": "code",
   "execution_count": 6,
   "id": "20a4b9a3-1a6a-4c53-86e9-61729b83c572",
   "metadata": {},
   "outputs": [
    {
     "data": {
      "application/vnd.jupyter.widget-view+json": {
       "model_id": "3f72cad5e2644e38990d36c865e2ef29",
       "version_major": 2,
       "version_minor": 0
      },
      "text/plain": [
       "IntText(value=0, description='Claim Identifier:', layout=Layout(width='60%'))"
      ]
     },
     "metadata": {},
     "output_type": "display_data"
    },
    {
     "data": {
      "application/vnd.jupyter.widget-view+json": {
       "model_id": "b392ae75c47f4502b0edf8e55c5b2e8e",
       "version_major": 2,
       "version_minor": 0
      },
      "text/plain": [
       "Output()"
      ]
     },
     "metadata": {},
     "output_type": "display_data"
    }
   ],
   "source": [
    "# try 6166047 for example\n",
    "\n",
    "# Attach event listener to the input widget\n",
    "claim_identifier_input.observe(validate_and_predict, names='value')\n",
    "\n",
    "# Display the claim identifier input and output area\n",
    "display(claim_identifier_input)\n",
    "display(output)"
   ]
  },
  {
   "cell_type": "code",
   "execution_count": 7,
   "id": "957b6c1e-37c5-4aba-a5bf-b2adcd49cae3",
   "metadata": {},
   "outputs": [
    {
     "ename": "NameError",
     "evalue": "name 'feature_sliders' is not defined",
     "output_type": "error",
     "traceback": [
      "\u001b[1;31m---------------------------------------------------------------------------\u001b[0m",
      "\u001b[1;31mNameError\u001b[0m                                 Traceback (most recent call last)",
      "Cell \u001b[1;32mIn[7], line 19\u001b[0m\n\u001b[0;32m     16\u001b[0m output \u001b[38;5;241m=\u001b[39m widgets\u001b[38;5;241m.\u001b[39mOutput()\n\u001b[0;32m     18\u001b[0m \u001b[38;5;66;03m# Link sliders to the simulate prediction function\u001b[39;00m\n\u001b[1;32m---> 19\u001b[0m \u001b[38;5;28;01mfor\u001b[39;00m slider \u001b[38;5;129;01min\u001b[39;00m \u001b[43mfeature_sliders\u001b[49m\u001b[38;5;241m.\u001b[39mvalues():\n\u001b[0;32m     20\u001b[0m     slider\u001b[38;5;241m.\u001b[39mobserve(simulate_prediction, names\u001b[38;5;241m=\u001b[39m\u001b[38;5;124m'\u001b[39m\u001b[38;5;124mvalue\u001b[39m\u001b[38;5;124m'\u001b[39m)\n\u001b[0;32m     22\u001b[0m \u001b[38;5;66;03m# Display sliders and output area\u001b[39;00m\n",
      "\u001b[1;31mNameError\u001b[0m: name 'feature_sliders' is not defined"
     ]
    }
   ],
   "source": [
    "# Function to simulate prediction based on the slider values\n",
    "def simulate_prediction(change):\n",
    "    # Collect all slider values (directly use them)\n",
    "    feature_values = np.array([slider.value for slider in feature_sliders.values()]).reshape(1, -1)\n",
    "    \n",
    "    # Get the prediction from the model (no scaling needed)\n",
    "    prediction = best_model.predict(feature_values)\n",
    "    claim_type = CLAIM_TYPE_MAPPING.get(prediction[0], \"Unknown Class\")\n",
    "    \n",
    "    # Display the prediction\n",
    "    with output:\n",
    "        output.clear_output()\n",
    "        print(f\"Prediction: {claim_type}\")\n",
    "\n",
    "# Output area for displaying results\n",
    "output = widgets.Output()\n",
    "\n",
    "# Link sliders to the simulate prediction function\n",
    "for slider in feature_sliders.values():\n",
    "    slider.observe(simulate_prediction, names='value')\n",
    "\n",
    "# Display sliders and output area\n",
    "display(widgets.VBox(list(feature_sliders.values())))\n",
    "display(output)"
   ]
  }
 ],
 "metadata": {
  "kernelspec": {
   "display_name": "DM2425",
   "language": "python",
   "name": "python3"
  },
  "language_info": {
   "codemirror_mode": {
    "name": "ipython",
    "version": 3
   },
   "file_extension": ".py",
   "mimetype": "text/x-python",
   "name": "python",
   "nbconvert_exporter": "python",
   "pygments_lexer": "ipython3",
   "version": "3.12.5"
  }
 },
 "nbformat": 4,
 "nbformat_minor": 5
}
